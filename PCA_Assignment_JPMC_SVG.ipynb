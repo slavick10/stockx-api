{
  "nbformat": 4,
  "nbformat_minor": 0,
  "metadata": {
    "colab": {
      "name": "PCA_Assignment_JPMC_SVG.ipynb",
      "provenance": [],
      "authorship_tag": "ABX9TyOL19QL/WZGmbAH4uKgyZo/",
      "include_colab_link": true
    },
    "kernelspec": {
      "name": "python3",
      "display_name": "Python 3"
    },
    "language_info": {
      "name": "python"
    }
  },
  "cells": [
    {
      "cell_type": "markdown",
      "metadata": {
        "id": "view-in-github",
        "colab_type": "text"
      },
      "source": [
        "<a href=\"https://colab.research.google.com/github/slavick10/stockx-api/blob/master/PCA_Assignment_JPMC_SVG.ipynb\" target=\"_parent\"><img src=\"https://colab.research.google.com/assets/colab-badge.svg\" alt=\"Open In Colab\"/></a>"
      ]
    },
    {
      "cell_type": "code",
      "execution_count": 3,
      "metadata": {
        "id": "c1DVCJjWa35b"
      },
      "outputs": [],
      "source": [
        "from fredapi import Fred\n",
        "import pandas as pd\n",
        "\n",
        "fred = Fred(api_key='503457cee77f346417a59de0e24474f0')\n",
        "# data = fred.get_series('SP500')\n",
        "\n",
        "data1 = fred.get_series('GS1')\n",
        "df_orders_in_acct = pd.DataFrame(data, columns = data[0].keys())"
      ]
    },
    {
      "cell_type": "code",
      "source": [
        "data2 = fred.get_series('GS2')"
      ],
      "metadata": {
        "id": "X97a7LVlbd2n"
      },
      "execution_count": null,
      "outputs": []
    },
    {
      "cell_type": "code",
      "source": [
        "data2"
      ],
      "metadata": {
        "colab": {
          "base_uri": "https://localhost:8080/"
        },
        "id": "g13RoHmrbYT3",
        "outputId": "c3dc52af-af9f-435e-e208-e9325e2e3940"
      },
      "execution_count": 4,
      "outputs": [
        {
          "output_type": "execute_result",
          "data": {
            "text/plain": [
              "1953-04-01    2.36\n",
              "1953-05-01    2.48\n",
              "1953-06-01    2.45\n",
              "1953-07-01    2.38\n",
              "1953-08-01    2.28\n",
              "              ... \n",
              "2021-12-01    0.30\n",
              "2022-01-01    0.55\n",
              "2022-02-01    1.00\n",
              "2022-03-01    1.34\n",
              "2022-04-01    1.89\n",
              "Length: 829, dtype: float64"
            ]
          },
          "metadata": {},
          "execution_count": 4
        }
      ]
    }
  ]
}